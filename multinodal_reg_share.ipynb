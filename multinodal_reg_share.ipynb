{
  "nbformat": 4,
  "nbformat_minor": 0,
  "metadata": {
    "colab": {
      "provenance": [],
      "include_colab_link": true
    },
    "kernelspec": {
      "name": "python3",
      "display_name": "Python 3"
    },
    "language_info": {
      "name": "python"
    }
  },
  "cells": [
    {
      "cell_type": "markdown",
      "metadata": {
        "id": "view-in-github",
        "colab_type": "text"
      },
      "source": [
        "<a href=\"https://colab.research.google.com/github/joesaju/PycharmProjects/blob/main/multinodal_reg_share.ipynb\" target=\"_parent\"><img src=\"https://colab.research.google.com/assets/colab-badge.svg\" alt=\"Open In Colab\"/></a>"
      ]
    },
    {
      "cell_type": "code",
      "execution_count": null,
      "metadata": {
        "id": "KQc06IpZ5B0H"
      },
      "outputs": [],
      "source": [
        "from sklearn.datasets import load_iris\n",
        "from sklearn.linear_model import LogisticRegression\n",
        "from sklearn.model_selection import train_test_split\n",
        "from sklearn.metrics import accuracy_score"
      ]
    },
    {
      "cell_type": "code",
      "source": [
        "# Load dataset (Iris = 3 classes)\n",
        "iris = load_iris()\n",
        "X, y = iris.data, iris.target"
      ],
      "metadata": {
        "id": "N8xrzo7MFjHA"
      },
      "execution_count": null,
      "outputs": []
    },
    {
      "cell_type": "markdown",
      "source": [
        "#model = LogisticRegression(multi_class='multinomial', solver='lbfgs', max_iter=200)"
      ],
      "metadata": {
        "id": "fi9bP5QuXSF0"
      }
    },
    {
      "cell_type": "code",
      "source": [
        "# Train-test split\n",
        "X_train, X_test, y_train, y_test = train_test_split(X, y, test_size=0.2, random_state=42)\n",
        "\n",
        "# Multinomial Logistic Regression\n",
        "model = LogisticRegression(solver='lbfgs', max_iter=200)\n",
        "model.fit(X_train, y_train)\n",
        "\n",
        "# Predictions\n",
        "y_pred = model.predict(X_test)\n",
        "\n",
        "print(\"Accuracy:\", accuracy_score(y_test, y_pred))"
      ],
      "metadata": {
        "colab": {
          "base_uri": "https://localhost:8080/"
        },
        "id": "tmEosQy7FjpZ",
        "outputId": "c04344aa-396b-4836-e8c4-d72b4104a3a3"
      },
      "execution_count": null,
      "outputs": [
        {
          "output_type": "stream",
          "name": "stdout",
          "text": [
            "Accuracy: 1.0\n"
          ]
        }
      ]
    },
    {
      "cell_type": "code",
      "source": [
        "# Example Input: [sepal length, sepal width, petal length, petal width]\n",
        "sample_input = [[5.1, 3.5, 1.4, 0.2]]  # (similar to Setosa)\n",
        "\n",
        "# Prediction\n",
        "prediction = model.predict(sample_input)\n",
        "predicted_class=prediction[0]\n",
        "predicted_class = iris.target_names[prediction[0]]\n",
        "\n",
        "print(\"Input Features:\", sample_input)\n",
        "print(\"Predicted Class:\", predicted_class)"
      ],
      "metadata": {
        "id": "Gc2gPzyAGOiR",
        "outputId": "e6699a70-0596-41d4-daec-fd600d2eefe6",
        "colab": {
          "base_uri": "https://localhost:8080/"
        }
      },
      "execution_count": null,
      "outputs": [
        {
          "output_type": "stream",
          "name": "stdout",
          "text": [
            "Input Features: [[5.1, 3.5, 1.4, 0.2]]\n",
            "Predicted Class: setosa\n"
          ]
        }
      ]
    }
  ]
}